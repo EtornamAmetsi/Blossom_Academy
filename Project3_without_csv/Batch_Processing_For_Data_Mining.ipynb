{
 "cells": [
  {
   "cell_type": "markdown",
   "metadata": {},
   "source": [
    "# Code to load the \"Data scientist job market\" dataset and \"US stocks\" datasets from the s3 bucket ‘s3://blossom-data-engs’ onto your computer\n"
   ]
  },
  {
   "cell_type": "code",
   "execution_count": 60,
   "metadata": {},
   "outputs": [],
   "source": [
    "import boto3"
   ]
  },
  {
   "cell_type": "code",
   "execution_count": 61,
   "metadata": {},
   "outputs": [],
   "source": [
    "region = \"eu-west-1\""
   ]
  },
  {
   "cell_type": "code",
   "execution_count": 62,
   "metadata": {},
   "outputs": [],
   "source": [
    "s3_client = boto3.client('s3', region_name=region)"
   ]
  },
  {
   "cell_type": "code",
   "execution_count": 63,
   "metadata": {},
   "outputs": [],
   "source": [
    "location = {'LocationConstraint': region}"
   ]
  },
  {
   "cell_type": "code",
   "execution_count": 64,
   "metadata": {},
   "outputs": [],
   "source": [
    "s3_client.download_file(\"blossom-data-engs\", \"alldata.csv\", \"alldata.csv\")"
   ]
  },
  {
   "cell_type": "code",
   "execution_count": 65,
   "metadata": {},
   "outputs": [],
   "source": [
    "s3_client.download_file(\"blossom-data-engs\", \"companies.csv\", \"companies.csv\")"
   ]
  },
  {
   "cell_type": "markdown",
   "metadata": {},
   "source": [
    "# Code to read the downloaded datasets with pyspark"
   ]
  },
  {
   "cell_type": "code",
   "execution_count": 66,
   "metadata": {},
   "outputs": [],
   "source": [
    "from pyspark.sql.types import BooleanType\n",
    "from pyspark.sql.functions import udf\n",
    "from pyspark.sql import functions as F\n",
    "from pyspark.sql import SparkSession\n",
    "from pyspark.sql import Window\n",
    "from pyspark.sql.functions import count"
   ]
  },
  {
   "cell_type": "code",
   "execution_count": 67,
   "metadata": {},
   "outputs": [],
   "source": [
    "spark = SparkSession.builder.getOrCreate()"
   ]
  },
  {
   "cell_type": "code",
   "execution_count": 68,
   "metadata": {},
   "outputs": [],
   "source": [
    "companies = spark.read.csv(\"companies.csv\", header=True, inferSchema=True, multiLine = True)"
   ]
  },
  {
   "cell_type": "code",
   "execution_count": 69,
   "metadata": {},
   "outputs": [],
   "source": [
    "alldata = spark.read.csv(\"alldata.csv\", header=True, inferSchema=True, multiLine=True)"
   ]
  },
  {
   "cell_type": "code",
   "execution_count": 70,
   "metadata": {},
   "outputs": [
    {
     "data": {
      "text/plain": [
       "6512"
      ]
     },
     "execution_count": 70,
     "metadata": {},
     "output_type": "execute_result"
    }
   ],
   "source": [
    "companies.count()"
   ]
  },
  {
   "cell_type": "code",
   "execution_count": 71,
   "metadata": {},
   "outputs": [
    {
     "data": {
      "text/plain": [
       "13513"
      ]
     },
     "execution_count": 71,
     "metadata": {},
     "output_type": "execute_result"
    }
   ],
   "source": [
    "alldata.count()"
   ]
  },
  {
   "cell_type": "code",
   "execution_count": 72,
   "metadata": {},
   "outputs": [
    {
     "data": {
      "text/plain": [
       "['ticker',\n",
       " 'company name',\n",
       " 'short name',\n",
       " 'industry',\n",
       " 'description',\n",
       " 'website',\n",
       " 'logo',\n",
       " 'ceo',\n",
       " 'exchange',\n",
       " 'market cap',\n",
       " 'sector',\n",
       " 'tag 1',\n",
       " 'tag 2',\n",
       " 'tag 3\\r']"
      ]
     },
     "execution_count": 72,
     "metadata": {},
     "output_type": "execute_result"
    }
   ],
   "source": [
    "companies.columns"
   ]
  },
  {
   "cell_type": "code",
   "execution_count": 73,
   "metadata": {},
   "outputs": [
    {
     "data": {
      "text/plain": [
       "['position', 'company', 'description', 'reviews', 'location\\r']"
      ]
     },
     "execution_count": 73,
     "metadata": {},
     "output_type": "execute_result"
    }
   ],
   "source": [
    "alldata.columns"
   ]
  },
  {
   "cell_type": "code",
   "execution_count": 74,
   "metadata": {},
   "outputs": [
    {
     "data": {
      "text/plain": [
       "[('ticker', 'string'),\n",
       " ('company name', 'string'),\n",
       " ('short name', 'string'),\n",
       " ('industry', 'string'),\n",
       " ('description', 'string'),\n",
       " ('website', 'string'),\n",
       " ('logo', 'string'),\n",
       " ('ceo', 'string'),\n",
       " ('exchange', 'string'),\n",
       " ('market cap', 'string'),\n",
       " ('sector', 'string'),\n",
       " ('tag 1', 'string'),\n",
       " ('tag 2', 'string'),\n",
       " ('tag 3\\r', 'string')]"
      ]
     },
     "execution_count": 74,
     "metadata": {},
     "output_type": "execute_result"
    }
   ],
   "source": [
    "companies.dtypes"
   ]
  },
  {
   "cell_type": "code",
   "execution_count": 75,
   "metadata": {},
   "outputs": [
    {
     "data": {
      "text/plain": [
       "[('position', 'string'),\n",
       " ('company', 'string'),\n",
       " ('description', 'string'),\n",
       " ('reviews', 'string'),\n",
       " ('location\\r', 'string')]"
      ]
     },
     "execution_count": 75,
     "metadata": {},
     "output_type": "execute_result"
    }
   ],
   "source": [
    "alldata.dtypes"
   ]
  },
  {
   "cell_type": "code",
   "execution_count": 76,
   "metadata": {},
   "outputs": [
    {
     "name": "stdout",
     "output_type": "stream",
     "text": [
      "+------+--------------------+--------------------+--------------------+--------------------+--------------------+--------+--------------------+--------------------+-----------+------------------+------------------+--------------------+--------------------+\n",
      "|ticker|        company name|          short name|            industry|         description|             website|    logo|                 ceo|            exchange| market cap|            sector|             tag 1|               tag 2|              tag 3\r",
      "|\n",
      "+------+--------------------+--------------------+--------------------+--------------------+--------------------+--------+--------------------+--------------------+-----------+------------------+------------------+--------------------+--------------------+\n",
      "|     A|Agilent Technolog...|             Agilent|Medical Diagnosti...|Agilent Technolog...|http://www.agilen...|   A.png| Michael R. McMullen|New York Stock Ex...|24218068096|        Healthcare|        Healthcare|Diagnostics & Res...|Medical Diagnosti...|\n",
      "|    AA|   Alcoa Corporation|               Alcoa|     Metals & Mining|Alcoa Corp is an ...|http://www.alcoa.com|  AA.png|Roy Christopher H...|New York Stock Ex...| 5374966543|   Basic Materials|   Basic Materials|            Aluminum|    Metals & Mining\r",
      "|\n",
      "|  AABA|         Altaba Inc.|              Altaba|    Asset Management|Altaba Inc is an ...|http://www.altaba...|AABA.png| Thomas J. Mcinerney|Nasdaq Global Select|41223683414|Financial Services|Financial Services|    Asset Management|                   \r",
      "|\n",
      "|   AAC|   AAC Holdings Inc.|                 AAC|Health Care Provi...|AAC Holdings Inc ...|http://www.americ...|    null|Michael T. Cartwr...|New York Stock Ex...|   63720099|        Healthcare|        Healthcare|        Medical Care|Health Care Provi...|\n",
      "|  AADR|AdvisorShares Dor...|AdvisorShares Dor...|                null|\"The investment s...|http://www.adviso...|AADR.png|                null|           NYSE Arca|  103161180|              null|              null|                null|                   \r",
      "|\n",
      "+------+--------------------+--------------------+--------------------+--------------------+--------------------+--------+--------------------+--------------------+-----------+------------------+------------------+--------------------+--------------------+\n",
      "only showing top 5 rows\n",
      "\n"
     ]
    }
   ],
   "source": [
    "companies.show(5)"
   ]
  },
  {
   "cell_type": "code",
   "execution_count": 77,
   "metadata": {},
   "outputs": [
    {
     "name": "stdout",
     "output_type": "stream",
     "text": [
      "+--------------------+--------------------+--------------------+----------------+--------------------+\n",
      "|            position|             company|         description|         reviews|           location\r",
      "|\n",
      "+--------------------+--------------------+--------------------+----------------+--------------------+\n",
      "|Development Director|             ALS TDI|Development Direc...|            null|  Atlanta, GA 30301 |\n",
      "|An Ostentatiously...|  The Hexagon Lavish|\"Job Description\n",
      "...|            null|                null|\n",
      "|Ostentatious is a...| vigor and the ea...|                null|            null|                null|\n",
      "|      With that said|             Atlanta| Georgia-based sc...| Hexagon Lavish®| has an open posi...|\n",
      "|This position inc...| technical and lo...| the Excitable Pr...|            null|                null|\n",
      "|The Excitable Pri...| setting-up work ...|                null|            null|                null|\n",
      "|*** A solid backg...|                null|                null|            null|                null|\n",
      "|Integrating data ...|                null|                null|            null|                null|\n",
      "|Under general dir...| developing innov...|                null|            null|                null|\n",
      "|Providing support...|                null|                null|            null|                null|\n",
      "+--------------------+--------------------+--------------------+----------------+--------------------+\n",
      "only showing top 10 rows\n",
      "\n"
     ]
    }
   ],
   "source": [
    "alldata.show(10)"
   ]
  },
  {
   "cell_type": "code",
   "execution_count": 78,
   "metadata": {},
   "outputs": [
    {
     "name": "stdout",
     "output_type": "stream",
     "text": [
      "+--------------------+--------------------+\n",
      "|         description|        company name|\n",
      "+--------------------+--------------------+\n",
      "|Agilent Technolog...|Agilent Technolog...|\n",
      "|Alcoa Corp is an ...|   Alcoa Corporation|\n",
      "|Altaba Inc is an ...|         Altaba Inc.|\n",
      "|AAC Holdings Inc ...|   AAC Holdings Inc.|\n",
      "|\"The investment s...|AdvisorShares Dor...|\n",
      "|American Airlines...|American Airlines...|\n",
      "|Altisource Asset ...|Altisource Asset ...|\n",
      "|Atlantic American...|Atlantic American...|\n",
      "|Aaron's Inc is a ...|        Aaron's Inc.|\n",
      "|Applied Optoelect...|Applied Optoelect...|\n",
      "|AAON Inc is a hea...|           AAON Inc.|\n",
      "|Advance Auto Part...|Advance Auto Part...|\n",
      "|Apple Inc is desi...|          Apple Inc.|\n",
      "|American Assets T...|American Assets T...|\n",
      "|Almaden Minerals ...|Almaden Minerals ...|\n",
      "|Atlas Air Worldwi...|Atlas Air Worldwi...|\n",
      "|The investment se...|iShares MSCI All ...|\n",
      "|Axon Enterprise I...|Axon Enterprise Inc.|\n",
      "|AllianceBernstein...|AllianceBernstein...|\n",
      "|ABB Ltd is a powe...|             ABB Ltd|\n",
      "+--------------------+--------------------+\n",
      "only showing top 20 rows\n",
      "\n"
     ]
    }
   ],
   "source": [
    "companies.select('description','company name').show()"
   ]
  },
  {
   "cell_type": "code",
   "execution_count": 79,
   "metadata": {},
   "outputs": [
    {
     "name": "stdout",
     "output_type": "stream",
     "text": [
      "+--------------------+--------------------+\n",
      "|         description|             company|\n",
      "+--------------------+--------------------+\n",
      "|Development Direc...|             ALS TDI|\n",
      "|\"Job Description\n",
      "...|  The Hexagon Lavish|\n",
      "|                null| vigor and the ea...|\n",
      "| Georgia-based sc...|             Atlanta|\n",
      "| the Excitable Pr...| technical and lo...|\n",
      "|                null| setting-up work ...|\n",
      "|                null|                null|\n",
      "|                null|                null|\n",
      "|                null| developing innov...|\n",
      "|                null|                null|\n",
      "|                null|                null|\n",
      "|                null|                null|\n",
      "|                null|                null|\n",
      "|                null|                null|\n",
      "|          Statistics|         Mathematics|\n",
      "|         Mathematics| with varying dat...|\n",
      "|                null|                null|\n",
      "|                null|                null|\n",
      "|                null|                null|\n",
      "|                null|                null|\n",
      "+--------------------+--------------------+\n",
      "only showing top 20 rows\n",
      "\n"
     ]
    }
   ],
   "source": [
    "alldata.select('description','company').show()"
   ]
  },
  {
   "cell_type": "markdown",
   "metadata": {},
   "source": [
    "# Code to Rename the \"description\" columns in \"companies\" and \"alldata\" dataframe."
   ]
  },
  {
   "cell_type": "code",
   "execution_count": 80,
   "metadata": {},
   "outputs": [],
   "source": [
    "companies = companies.withColumnRenamed('description', 'company_description')"
   ]
  },
  {
   "cell_type": "code",
   "execution_count": 81,
   "metadata": {},
   "outputs": [
    {
     "data": {
      "text/plain": [
       "['ticker',\n",
       " 'company name',\n",
       " 'short name',\n",
       " 'industry',\n",
       " 'company_description',\n",
       " 'website',\n",
       " 'logo',\n",
       " 'ceo',\n",
       " 'exchange',\n",
       " 'market cap',\n",
       " 'sector',\n",
       " 'tag 1',\n",
       " 'tag 2',\n",
       " 'tag 3\\r']"
      ]
     },
     "execution_count": 81,
     "metadata": {},
     "output_type": "execute_result"
    }
   ],
   "source": [
    "companies.columns"
   ]
  },
  {
   "cell_type": "code",
   "execution_count": 82,
   "metadata": {},
   "outputs": [],
   "source": [
    "alldata = alldata.withColumnRenamed('description', 'position_description')"
   ]
  },
  {
   "cell_type": "code",
   "execution_count": 83,
   "metadata": {},
   "outputs": [
    {
     "data": {
      "text/plain": [
       "['position', 'company', 'position_description', 'reviews', 'location\\r']"
      ]
     },
     "execution_count": 83,
     "metadata": {},
     "output_type": "execute_result"
    }
   ],
   "source": [
    "alldata.columns"
   ]
  },
  {
   "cell_type": "markdown",
   "metadata": {},
   "source": [
    "# Code to join both Datasets."
   ]
  },
  {
   "cell_type": "code",
   "execution_count": 84,
   "metadata": {},
   "outputs": [
    {
     "data": {
      "text/plain": [
       "['ticker',\n",
       " 'company name',\n",
       " 'short name',\n",
       " 'industry',\n",
       " 'company_description',\n",
       " 'website',\n",
       " 'logo',\n",
       " 'ceo',\n",
       " 'exchange',\n",
       " 'market cap',\n",
       " 'sector',\n",
       " 'tag 1',\n",
       " 'tag 2',\n",
       " 'tag 3\\r']"
      ]
     },
     "execution_count": 84,
     "metadata": {},
     "output_type": "execute_result"
    }
   ],
   "source": [
    "companies.columns"
   ]
  },
  {
   "cell_type": "code",
   "execution_count": 85,
   "metadata": {},
   "outputs": [],
   "source": [
    "inner_join = companies.join(alldata, companies['company name'] == alldata.company)"
   ]
  },
  {
   "cell_type": "code",
   "execution_count": 86,
   "metadata": {},
   "outputs": [
    {
     "data": {
      "text/plain": [
       "['ticker',\n",
       " 'company name',\n",
       " 'short name',\n",
       " 'industry',\n",
       " 'company_description',\n",
       " 'website',\n",
       " 'logo',\n",
       " 'ceo',\n",
       " 'exchange',\n",
       " 'market cap',\n",
       " 'sector',\n",
       " 'tag 1',\n",
       " 'tag 2',\n",
       " 'tag 3\\r',\n",
       " 'position',\n",
       " 'company',\n",
       " 'position_description',\n",
       " 'reviews',\n",
       " 'location\\r']"
      ]
     },
     "execution_count": 86,
     "metadata": {},
     "output_type": "execute_result"
    }
   ],
   "source": [
    "inner_join.columns"
   ]
  },
  {
   "cell_type": "code",
   "execution_count": 87,
   "metadata": {},
   "outputs": [
    {
     "name": "stdout",
     "output_type": "stream",
     "text": [
      "+--------------------+--------------------+\n",
      "|        company name|             company|\n",
      "+--------------------+--------------------+\n",
      "|   Cubic Corporation|   Cubic Corporation|\n",
      "| The Hershey Company| The Hershey Company|\n",
      "| Abbott Laboratories| Abbott Laboratories|\n",
      "| Centene Corporation| Centene Corporation|\n",
      "|           eBay Inc.|           eBay Inc.|\n",
      "|        Trimble Inc.|        Trimble Inc.|\n",
      "|   Cabot Corporation|   Cabot Corporation|\n",
      "| Celgene Corporation| Celgene Corporation|\n",
      "|               AECOM|               AECOM|\n",
      "|  Kemper Corporation|  Kemper Corporation|\n",
      "|Discover Financia...|Discover Financia...|\n",
      "|               AECOM|               AECOM|\n",
      "|          TransUnion|          TransUnion|\n",
      "|       Wipro Limited|       Wipro Limited|\n",
      "| Synchrony Financial| Synchrony Financial|\n",
      "|          TransUnion|          TransUnion|\n",
      "|Discover Financia...|Discover Financia...|\n",
      "|          TransUnion|          TransUnion|\n",
      "|Vanda Pharmaceuti...|Vanda Pharmaceuti...|\n",
      "|Vanda Pharmaceuti...|Vanda Pharmaceuti...|\n",
      "+--------------------+--------------------+\n",
      "only showing top 20 rows\n",
      "\n"
     ]
    }
   ],
   "source": [
    "inner_join.select('company name','company').show()"
   ]
  },
  {
   "cell_type": "code",
   "execution_count": 88,
   "metadata": {},
   "outputs": [],
   "source": [
    "inner_join = inner_join.withColumnRenamed('company', 'company_name')\n"
   ]
  },
  {
   "cell_type": "code",
   "execution_count": 89,
   "metadata": {},
   "outputs": [
    {
     "name": "stdout",
     "output_type": "stream",
     "text": [
      "+--------------------+--------------------+\n",
      "|        company name|        company_name|\n",
      "+--------------------+--------------------+\n",
      "|   Cubic Corporation|   Cubic Corporation|\n",
      "| The Hershey Company| The Hershey Company|\n",
      "| Abbott Laboratories| Abbott Laboratories|\n",
      "| Centene Corporation| Centene Corporation|\n",
      "|           eBay Inc.|           eBay Inc.|\n",
      "|        Trimble Inc.|        Trimble Inc.|\n",
      "|   Cabot Corporation|   Cabot Corporation|\n",
      "| Celgene Corporation| Celgene Corporation|\n",
      "|               AECOM|               AECOM|\n",
      "|  Kemper Corporation|  Kemper Corporation|\n",
      "|Discover Financia...|Discover Financia...|\n",
      "|               AECOM|               AECOM|\n",
      "|          TransUnion|          TransUnion|\n",
      "|       Wipro Limited|       Wipro Limited|\n",
      "| Synchrony Financial| Synchrony Financial|\n",
      "|          TransUnion|          TransUnion|\n",
      "|Discover Financia...|Discover Financia...|\n",
      "|          TransUnion|          TransUnion|\n",
      "|Vanda Pharmaceuti...|Vanda Pharmaceuti...|\n",
      "|Vanda Pharmaceuti...|Vanda Pharmaceuti...|\n",
      "+--------------------+--------------------+\n",
      "only showing top 20 rows\n",
      "\n"
     ]
    }
   ],
   "source": [
    "inner_join.select('company name','company_name').show()"
   ]
  },
  {
   "cell_type": "code",
   "execution_count": 90,
   "metadata": {},
   "outputs": [],
   "source": [
    "inner_join = inner_join.drop('company name')"
   ]
  },
  {
   "cell_type": "code",
   "execution_count": 91,
   "metadata": {},
   "outputs": [
    {
     "data": {
      "text/plain": [
       "['ticker',\n",
       " 'short name',\n",
       " 'industry',\n",
       " 'company_description',\n",
       " 'website',\n",
       " 'logo',\n",
       " 'ceo',\n",
       " 'exchange',\n",
       " 'market cap',\n",
       " 'sector',\n",
       " 'tag 1',\n",
       " 'tag 2',\n",
       " 'tag 3\\r',\n",
       " 'position',\n",
       " 'company_name',\n",
       " 'position_description',\n",
       " 'reviews',\n",
       " 'location\\r']"
      ]
     },
     "execution_count": 91,
     "metadata": {},
     "output_type": "execute_result"
    }
   ],
   "source": [
    "inner_join.columns"
   ]
  },
  {
   "cell_type": "markdown",
   "metadata": {},
   "source": [
    "# A function to generate n-grams (unigram & bigram) from \"position_description\"."
   ]
  },
  {
   "cell_type": "code",
   "execution_count": 92,
   "metadata": {},
   "outputs": [],
   "source": [
    "from pyspark.ml.feature import NGram,Tokenizer"
   ]
  },
  {
   "cell_type": "code",
   "execution_count": 93,
   "metadata": {},
   "outputs": [],
   "source": [
    "def ngram_gen(data, n):\n",
    "    \n",
    "    tokens = Tokenizer(inputCol = data , outputCol = 'tokens')\n",
    "    df = tokens.transform(inner_join)\n",
    "    \n",
    "    ngrams = NGram(n = n,inputCol = 'tokens', outputCol = 'ngrams' )\n",
    "    df = ngrams.transform(df)\n",
    "    \n",
    "    return df"
   ]
  },
  {
   "cell_type": "code",
   "execution_count": 94,
   "metadata": {},
   "outputs": [
    {
     "name": "stdout",
     "output_type": "stream",
     "text": [
      "+--------------------+\n",
      "|              ngrams|\n",
      "+--------------------+\n",
      "|[job, summary:, ,...|\n",
      "|[job, title:, foo...|\n",
      "|[at, abbott,, we'...|\n",
      "|[provide, vision,...|\n",
      "|[at, ebay,, you, ...|\n",
      "|[data, scientist,...|\n",
      "|[position, summar...|\n",
      "|[other, locations...|\n",
      "|[aecom, is, activ...|\n",
      "|[position, summar...|\n",
      "+--------------------+\n",
      "only showing top 10 rows\n",
      "\n"
     ]
    }
   ],
   "source": [
    "ngram_gen('position_description', 1).select('ngrams').show(10)"
   ]
  },
  {
   "cell_type": "code",
   "execution_count": 95,
   "metadata": {
    "scrolled": false
   },
   "outputs": [
    {
     "name": "stdout",
     "output_type": "stream",
     "text": [
      "+--------------------+\n",
      "|              ngrams|\n",
      "+--------------------+\n",
      "|[job summary:, su...|\n",
      "|[job title:, titl...|\n",
      "|[at abbott,, abbo...|\n",
      "|[provide vision,,...|\n",
      "|[at ebay,, ebay, ...|\n",
      "|[data scientist, ...|\n",
      "|[position summary...|\n",
      "|[other locations:...|\n",
      "|[aecom is, is act...|\n",
      "|[position summary...|\n",
      "+--------------------+\n",
      "only showing top 10 rows\n",
      "\n"
     ]
    }
   ],
   "source": [
    "ngram_gen('position_description', 2).select('ngrams').show(10)"
   ]
  },
  {
   "cell_type": "code",
   "execution_count": 96,
   "metadata": {},
   "outputs": [],
   "source": [
    "uni_gram =ngram_gen('position_description', 1)\n",
    "bi_gram = ngram_gen('position_description', 2)"
   ]
  },
  {
   "cell_type": "markdown",
   "metadata": {},
   "source": [
    "# A function that uses the \"ngram_gen\" function to create 2 spark data frames which have 3 columns in the order of frequency: \n"
   ]
  },
  {
   "cell_type": "code",
   "execution_count": 97,
   "metadata": {},
   "outputs": [
    {
     "data": {
      "text/plain": [
       "['ticker',\n",
       " 'short name',\n",
       " 'industry',\n",
       " 'company_description',\n",
       " 'website',\n",
       " 'logo',\n",
       " 'ceo',\n",
       " 'exchange',\n",
       " 'market cap',\n",
       " 'sector',\n",
       " 'tag 1',\n",
       " 'tag 2',\n",
       " 'tag 3\\r',\n",
       " 'position',\n",
       " 'company_name',\n",
       " 'position_description',\n",
       " 'reviews',\n",
       " 'location\\r',\n",
       " 'tokens',\n",
       " 'ngrams']"
      ]
     },
     "execution_count": 97,
     "metadata": {},
     "output_type": "execute_result"
    }
   ],
   "source": [
    "uni_gram.columns"
   ]
  },
  {
   "cell_type": "code",
   "execution_count": 98,
   "metadata": {},
   "outputs": [
    {
     "data": {
      "text/plain": [
       "['ticker',\n",
       " 'short name',\n",
       " 'industry',\n",
       " 'company_description',\n",
       " 'website',\n",
       " 'logo',\n",
       " 'ceo',\n",
       " 'exchange',\n",
       " 'market cap',\n",
       " 'sector',\n",
       " 'tag 1',\n",
       " 'tag 2',\n",
       " 'tag 3\\r',\n",
       " 'position',\n",
       " 'company_name',\n",
       " 'position_description',\n",
       " 'reviews',\n",
       " 'location\\r',\n",
       " 'tokens',\n",
       " 'ngrams']"
      ]
     },
     "execution_count": 98,
     "metadata": {},
     "output_type": "execute_result"
    }
   ],
   "source": [
    "bi_gram.columns"
   ]
  },
  {
   "cell_type": "code",
   "execution_count": 99,
   "metadata": {},
   "outputs": [],
   "source": [
    "input_to_df_gen1= uni_gram.select('ngrams','location\\r', F.split(uni_gram['location\\r'], ',')[0].alias('city'))\n",
    "input_to_df_gen2= bi_gram.select('ngrams','industry')"
   ]
  },
  {
   "cell_type": "code",
   "execution_count": 100,
   "metadata": {},
   "outputs": [
    {
     "name": "stdout",
     "output_type": "stream",
     "text": [
      "+--------------------+--------------------+----------+\n",
      "|              ngrams|           location\r",
      "|      city|\n",
      "+--------------------+--------------------+----------+\n",
      "|[job, summary:, ,...|          Austin, TX|    Austin|\n",
      "|[job, title:, foo...|          Austin, TX|    Austin|\n",
      "|[at, abbott,, we'...|          Austin, TX|    Austin|\n",
      "|[provide, vision,...|          Austin, TX|    Austin|\n",
      "|[at, ebay,, you, ...|    Austin, TX 78746|    Austin|\n",
      "|[data, scientist,...|         Boulder, CO|   Boulder|\n",
      "|[position, summar...|    Boston, MA 02210|    Boston|\n",
      "|[other, locations...|    Boston, MA 02108|    Boston|\n",
      "|[aecom, is, activ...|   Chicago, IL 60664|   Chicago|\n",
      "|[position, summar...|         Chicago, IL|   Chicago|\n",
      "|[as, a, master, d...|         Chicago, IL|   Chicago|\n",
      "|[aecom, is, seeki...|   Chicago, IL 60664|   Chicago|\n",
      "|[–, mohit, kapoor...|   Chicago, IL 60661|   Chicago|\n",
      "|[he/she, will, le...|         Chicago, IL|   Chicago|\n",
      "|[job, description...|         Chicago, IL|   Chicago|\n",
      "|[what, we’ll, bri...|   Chicago, IL 60661|   Chicago|\n",
      "|[as, a, lead, dat...|         Chicago, IL|   Chicago|\n",
      "|[–, mohit, kapoor...|   Chicago, IL 60661|   Chicago|\n",
      "|[\"position, descr...|                null|      null|\n",
      "|[responsibilities...|Washington, DC 20037|Washington|\n",
      "+--------------------+--------------------+----------+\n",
      "only showing top 20 rows\n",
      "\n"
     ]
    }
   ],
   "source": [
    "input_to_df_gen1.show()"
   ]
  },
  {
   "cell_type": "code",
   "execution_count": 101,
   "metadata": {},
   "outputs": [
    {
     "name": "stdout",
     "output_type": "stream",
     "text": [
      "+--------------------+--------------------+\n",
      "|              ngrams|            industry|\n",
      "+--------------------+--------------------+\n",
      "|[job summary:, su...| Aerospace & Defense|\n",
      "|[job title:, titl...|Consumer Packaged...|\n",
      "|[at abbott,, abbo...|     Medical Devices|\n",
      "|[provide vision,,...|   Health Care Plans|\n",
      "|[at ebay,, ebay, ...|Retail - Apparel ...|\n",
      "|[data scientist, ...|   Computer Hardware|\n",
      "|[position summary...|           Chemicals|\n",
      "|[other locations:...|       Biotechnology|\n",
      "|[aecom is, is act...|Engineering & Con...|\n",
      "|[position summary...|           Insurance|\n",
      "|[as a, a master, ...|     Credit Services|\n",
      "|[aecom is, is see...|Engineering & Con...|\n",
      "|[– mohit, mohit k...|   Business Services|\n",
      "|[he/she will, wil...|Application Software|\n",
      "|[job description:...|     Credit Services|\n",
      "|[what we’ll, we’l...|   Business Services|\n",
      "|[as a, a lead, le...|     Credit Services|\n",
      "|[– mohit, mohit k...|   Business Services|\n",
      "|[\"position descri...|       Biotechnology|\n",
      "|[responsibilities...|       Biotechnology|\n",
      "+--------------------+--------------------+\n",
      "only showing top 20 rows\n",
      "\n"
     ]
    }
   ],
   "source": [
    "input_to_df_gen2.show()"
   ]
  },
  {
   "cell_type": "code",
   "execution_count": 102,
   "metadata": {},
   "outputs": [],
   "source": [
    "#a function to reuse the Ngram DataFrame\n",
    "def dataframe_gen(input_df, input_col):\n",
    "    \n",
    "    new_df = input_df.select(input_col, F.explode('ngrams').alias('ngrams')).groupby(['ngrams', input_col]).count()\n",
    "    new_df = new_df.withColumnRenamed('count','frequency')\n",
    "    new_df.orderBy(new_df.frequency.desc())\n",
    "    return new_df"
   ]
  },
  {
   "cell_type": "code",
   "execution_count": 103,
   "metadata": {},
   "outputs": [],
   "source": [
    "df1 = dataframe_gen(input_to_df_gen1,'city')"
   ]
  },
  {
   "cell_type": "code",
   "execution_count": 104,
   "metadata": {},
   "outputs": [],
   "source": [
    "df2 = dataframe_gen(input_to_df_gen2,'industry')"
   ]
  },
  {
   "cell_type": "code",
   "execution_count": 105,
   "metadata": {},
   "outputs": [
    {
     "name": "stdout",
     "output_type": "stream",
     "text": [
      "+------------+-------+---------+\n",
      "|      ngrams|   city|frequency|\n",
      "+------------+-------+---------+\n",
      "|integration,| Austin|        1|\n",
      "|       siri,| Austin|        1|\n",
      "|   excellent| Austin|        1|\n",
      "|    relevant| Austin|        6|\n",
      "|           –| Austin|        1|\n",
      "|         key|Boulder|        1|\n",
      "|         her|Boulder|        1|\n",
      "|      status| Boston|        2|\n",
      "|   establish|Chicago|        1|\n",
      "|       teams|Chicago|       12|\n",
      "|         (or|Chicago|        3|\n",
      "| skillsshare|Chicago|        1|\n",
      "|      401(k)|Chicago|        1|\n",
      "|      master|Chicago|        1|\n",
      "|   required:|Chicago|        2|\n",
      "|     systems|Chicago|        2|\n",
      "|     cutting|Chicago|        2|\n",
      "|  strategies|Chicago|        3|\n",
      "|        true|Chicago|        1|\n",
      "|    optimize|Chicago|        1|\n",
      "+------------+-------+---------+\n",
      "only showing top 20 rows\n",
      "\n"
     ]
    }
   ],
   "source": [
    "df1.show()"
   ]
  },
  {
   "cell_type": "code",
   "execution_count": 106,
   "metadata": {},
   "outputs": [
    {
     "name": "stdout",
     "output_type": "stream",
     "text": [
      "+--------------------+--------------------+---------+\n",
      "|              ngrams|            industry|frequency|\n",
      "+--------------------+--------------------+---------+\n",
      "|   between disparate| Aerospace & Defense|        1|\n",
      "|            in clear| Aerospace & Defense|        1|\n",
      "|analysis methodology| Aerospace & Defense|        1|\n",
      "|      manner through| Aerospace & Defense|        1|\n",
      "|          and around|Consumer Packaged...|        1|\n",
      "|     master’s degree|     Medical Devices|        2|\n",
      "|    understanding of|   Health Care Plans|        1|\n",
      "|         will ensure|   Health Care Plans|        1|\n",
      "|            within a|   Health Care Plans|        2|\n",
      "|    complex analyses|   Health Care Plans|        1|\n",
      "|machines, supervi...|   Health Care Plans|        1|\n",
      "|theoretical knowl...|   Health Care Plans|        1|\n",
      "|           this role|Retail - Apparel ...|        3|\n",
      "|deployment infras...|Retail - Apparel ...|        1|\n",
      "|       aggregate and|Retail - Apparel ...|        1|\n",
      "|   computing systems|Retail - Apparel ...|        1|\n",
      "|wsdl/soap interfa...|Retail - Apparel ...|        1|\n",
      "|             area of|Retail - Apparel ...|        1|\n",
      "|         in boulder,|   Computer Hardware|        1|\n",
      "|          a customer|   Computer Hardware|        1|\n",
      "+--------------------+--------------------+---------+\n",
      "only showing top 20 rows\n",
      "\n"
     ]
    }
   ],
   "source": [
    "df2.show()"
   ]
  },
  {
   "cell_type": "markdown",
   "metadata": {},
   "source": [
    "#  Using visualization to compare a role between 2 cities"
   ]
  },
  {
   "cell_type": "code",
   "execution_count": 107,
   "metadata": {},
   "outputs": [],
   "source": [
    "import matplotlib.pyplot as plt"
   ]
  },
  {
   "cell_type": "code",
   "execution_count": 120,
   "metadata": {},
   "outputs": [
    {
     "name": "stdout",
     "output_type": "stream",
     "text": [
      "+---------------+---------+---------+--------------------+------------------+---------+\n",
      "|         ngrams|     city|frequency|              ngrams|          industry|frequency|\n",
      "+---------------+---------+---------+--------------------+------------------+---------+\n",
      "|          years|  Seattle|       26|              by the|Drug Manufacturers|       26|\n",
      "|          years|  Seattle|       26|transforming scie...|Drug Manufacturers|       26|\n",
      "|          years|  Seattle|       26|              with a|Drug Manufacturers|       26|\n",
      "|          years|  Seattle|       26|biopharmaceutical...|Drug Manufacturers|       26|\n",
      "|          years|  Seattle|       26|              and to|     Biotechnology|       26|\n",
      "|          years|  Seattle|       26|             sanofi,|Drug Manufacturers|       26|\n",
      "|          years|  Seattle|       26|           people in|Drug Manufacturers|       26|\n",
      "|          years|  Seattle|       26|           more than|Drug Manufacturers|       26|\n",
      "|          years|  Seattle|       26|       rare diseases|Drug Manufacturers|       26|\n",
      "|         across|San Diego|       26|              by the|Drug Manufacturers|       26|\n",
      "|         across|San Diego|       26|transforming scie...|Drug Manufacturers|       26|\n",
      "|         across|San Diego|       26|              with a|Drug Manufacturers|       26|\n",
      "|         across|San Diego|       26|biopharmaceutical...|Drug Manufacturers|       26|\n",
      "|         across|San Diego|       26|              and to|     Biotechnology|       26|\n",
      "|         across|San Diego|       26|             sanofi,|Drug Manufacturers|       26|\n",
      "|         across|San Diego|       26|           people in|Drug Manufacturers|       26|\n",
      "|         across|San Diego|       26|           more than|Drug Manufacturers|       26|\n",
      "|         across|San Diego|       26|       rare diseases|Drug Manufacturers|       26|\n",
      "|qualifications:|Cambridge|       26|              by the|Drug Manufacturers|       26|\n",
      "|qualifications:|Cambridge|       26|transforming scie...|Drug Manufacturers|       26|\n",
      "+---------------+---------+---------+--------------------+------------------+---------+\n",
      "only showing top 20 rows\n",
      "\n"
     ]
    }
   ],
   "source": [
    "join_df1_df2 = df1.join(df2, df1.frequency == df2.frequency)\n",
    "join_df1_df2.show()"
   ]
  },
  {
   "cell_type": "code",
   "execution_count": 122,
   "metadata": {},
   "outputs": [
    {
     "name": "stdout",
     "output_type": "stream",
     "text": [
      "+---------------+---------+---------+--------------------+------------------+---------+\n",
      "|        unigram|     city|frequency|             unigram|          industry|frequency|\n",
      "+---------------+---------+---------+--------------------+------------------+---------+\n",
      "|          years|  Seattle|       26|              by the|Drug Manufacturers|       26|\n",
      "|          years|  Seattle|       26|transforming scie...|Drug Manufacturers|       26|\n",
      "|          years|  Seattle|       26|              with a|Drug Manufacturers|       26|\n",
      "|          years|  Seattle|       26|biopharmaceutical...|Drug Manufacturers|       26|\n",
      "|          years|  Seattle|       26|              and to|     Biotechnology|       26|\n",
      "|          years|  Seattle|       26|             sanofi,|Drug Manufacturers|       26|\n",
      "|          years|  Seattle|       26|           people in|Drug Manufacturers|       26|\n",
      "|          years|  Seattle|       26|           more than|Drug Manufacturers|       26|\n",
      "|          years|  Seattle|       26|       rare diseases|Drug Manufacturers|       26|\n",
      "|         across|San Diego|       26|              by the|Drug Manufacturers|       26|\n",
      "|         across|San Diego|       26|transforming scie...|Drug Manufacturers|       26|\n",
      "|         across|San Diego|       26|              with a|Drug Manufacturers|       26|\n",
      "|         across|San Diego|       26|biopharmaceutical...|Drug Manufacturers|       26|\n",
      "|         across|San Diego|       26|              and to|     Biotechnology|       26|\n",
      "|         across|San Diego|       26|             sanofi,|Drug Manufacturers|       26|\n",
      "|         across|San Diego|       26|           people in|Drug Manufacturers|       26|\n",
      "|         across|San Diego|       26|           more than|Drug Manufacturers|       26|\n",
      "|         across|San Diego|       26|       rare diseases|Drug Manufacturers|       26|\n",
      "|qualifications:|Cambridge|       26|              by the|Drug Manufacturers|       26|\n",
      "|qualifications:|Cambridge|       26|transforming scie...|Drug Manufacturers|       26|\n",
      "+---------------+---------+---------+--------------------+------------------+---------+\n",
      "only showing top 20 rows\n",
      "\n"
     ]
    }
   ],
   "source": [
    "join_df1_df2 = join_df1_df2.withColumnRenamed('ngrams','unigram')\n",
    "join_df1_df2.show()"
   ]
  },
  {
   "cell_type": "markdown",
   "metadata": {},
   "source": [
    "join_df1_df2 = join_df1_df2.withColumnRenamed('ngrams','bigram')\n",
    "join_df1_df2.show()"
   ]
  },
  {
   "cell_type": "markdown",
   "metadata": {},
   "source": [
    "join_df1_df2.groupBy('ngrams').pivot('city').agg(count('frequency')).select('industry','Austin','Chicago').show()"
   ]
  },
  {
   "cell_type": "code",
   "execution_count": null,
   "metadata": {},
   "outputs": [],
   "source": []
  }
 ],
 "metadata": {
  "kernelspec": {
   "display_name": "Python 3",
   "language": "python",
   "name": "python3"
  },
  "language_info": {
   "codemirror_mode": {
    "name": "ipython",
    "version": 3
   },
   "file_extension": ".py",
   "mimetype": "text/x-python",
   "name": "python",
   "nbconvert_exporter": "python",
   "pygments_lexer": "ipython3",
   "version": "3.7.4"
  }
 },
 "nbformat": 4,
 "nbformat_minor": 4
}
